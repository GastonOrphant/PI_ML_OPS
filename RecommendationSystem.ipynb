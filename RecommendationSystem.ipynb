{
 "cells": [
  {
   "cell_type": "code",
   "execution_count": 151,
   "metadata": {},
   "outputs": [],
   "source": [
    "import pandas as pd\n",
    "import matplotlib.pyplot as plt\n",
    "\n",
    "%matplotlib inline\n",
    "\n",
    "# Libreria surprise para entrenamiento\n",
    "from surprise import Dataset, Reader, SVD\n",
    "from surprise.model_selection import train_test_split"
   ]
  },
  {
   "cell_type": "code",
   "execution_count": 152,
   "metadata": {},
   "outputs": [],
   "source": [
    "# Cargar el conjunto de datos de scores\n",
    "df = pd.read_csv(\"datasets/scores.csv\")\n",
    "\n",
    "# Cargar el conjunto de datos de movies para sacar luego el titulo de las peliculas\n",
    "df_titles = pd.read_csv(\"datasets/movies_titles.csv\")"
   ]
  },
  {
   "cell_type": "code",
   "execution_count": 153,
   "metadata": {},
   "outputs": [
    {
     "data": {
      "text/html": [
       "<div>\n",
       "<style scoped>\n",
       "    .dataframe tbody tr th:only-of-type {\n",
       "        vertical-align: middle;\n",
       "    }\n",
       "\n",
       "    .dataframe tbody tr th {\n",
       "        vertical-align: top;\n",
       "    }\n",
       "\n",
       "    .dataframe thead th {\n",
       "        text-align: right;\n",
       "    }\n",
       "</style>\n",
       "<table border=\"1\" class=\"dataframe\">\n",
       "  <thead>\n",
       "    <tr style=\"text-align: right;\">\n",
       "      <th></th>\n",
       "      <th>id</th>\n",
       "      <th>title</th>\n",
       "    </tr>\n",
       "  </thead>\n",
       "  <tbody>\n",
       "    <tr>\n",
       "      <th>0</th>\n",
       "      <td>as1</td>\n",
       "      <td>the grand seduction</td>\n",
       "    </tr>\n",
       "    <tr>\n",
       "      <th>1</th>\n",
       "      <td>as2</td>\n",
       "      <td>take care good night</td>\n",
       "    </tr>\n",
       "    <tr>\n",
       "      <th>2</th>\n",
       "      <td>as3</td>\n",
       "      <td>secrets of deception</td>\n",
       "    </tr>\n",
       "    <tr>\n",
       "      <th>3</th>\n",
       "      <td>as4</td>\n",
       "      <td>pink: staying true</td>\n",
       "    </tr>\n",
       "    <tr>\n",
       "      <th>4</th>\n",
       "      <td>as5</td>\n",
       "      <td>monster maker</td>\n",
       "    </tr>\n",
       "    <tr>\n",
       "      <th>...</th>\n",
       "      <td>...</td>\n",
       "      <td>...</td>\n",
       "    </tr>\n",
       "    <tr>\n",
       "      <th>22993</th>\n",
       "      <td>ns8803</td>\n",
       "      <td>zodiac</td>\n",
       "    </tr>\n",
       "    <tr>\n",
       "      <th>22994</th>\n",
       "      <td>ns8804</td>\n",
       "      <td>zombie dumb</td>\n",
       "    </tr>\n",
       "    <tr>\n",
       "      <th>22995</th>\n",
       "      <td>ns8805</td>\n",
       "      <td>zombieland</td>\n",
       "    </tr>\n",
       "    <tr>\n",
       "      <th>22996</th>\n",
       "      <td>ns8806</td>\n",
       "      <td>zoom</td>\n",
       "    </tr>\n",
       "    <tr>\n",
       "      <th>22997</th>\n",
       "      <td>ns8807</td>\n",
       "      <td>zubaan</td>\n",
       "    </tr>\n",
       "  </tbody>\n",
       "</table>\n",
       "<p>22998 rows × 2 columns</p>\n",
       "</div>"
      ],
      "text/plain": [
       "           id                 title\n",
       "0         as1   the grand seduction\n",
       "1         as2  take care good night\n",
       "2         as3  secrets of deception\n",
       "3         as4    pink: staying true\n",
       "4         as5         monster maker\n",
       "...       ...                   ...\n",
       "22993  ns8803                zodiac\n",
       "22994  ns8804           zombie dumb\n",
       "22995  ns8805            zombieland\n",
       "22996  ns8806                  zoom\n",
       "22997  ns8807                zubaan\n",
       "\n",
       "[22998 rows x 2 columns]"
      ]
     },
     "execution_count": 153,
     "metadata": {},
     "output_type": "execute_result"
    }
   ],
   "source": [
    "# Del dataset de peliculas solo nos interesa quedarnos con el id y su titulo\n",
    "\n",
    "df_titles = df_titles[['id','title']]\n",
    "\n",
    "df_titles = df_titles.reset_index(drop=True)\n",
    "\n",
    "df_titles"
   ]
  },
  {
   "cell_type": "code",
   "execution_count": 154,
   "metadata": {},
   "outputs": [],
   "source": [
    "# Pasos previos a realización de la predicción\n",
    "\n",
    "N_filas = 100000 # Limitamos el dataset a N_filas\n",
    "\n",
    "reader = Reader(rating_scale=(1, 5))\n",
    "\n",
    "data = Dataset.load_from_df(df[['userId', 'movieId', 'score']][:N_filas], reader)\n",
    "\n",
    "# Separamos nuestros datos\n",
    "\n",
    "trainset, testset = train_test_split(data, test_size=.25)\n"
   ]
  },
  {
   "cell_type": "code",
   "execution_count": 155,
   "metadata": {},
   "outputs": [
    {
     "data": {
      "text/plain": [
       "<surprise.prediction_algorithms.matrix_factorization.SVD at 0x20bf51c7280>"
      ]
     },
     "execution_count": 155,
     "metadata": {},
     "output_type": "execute_result"
    }
   ],
   "source": [
    "# Entrenamos el modelo SVD\n",
    "\n",
    "model = SVD()\n",
    "\n",
    "model.fit(trainset)"
   ]
  },
  {
   "cell_type": "code",
   "execution_count": 156,
   "metadata": {},
   "outputs": [],
   "source": [
    "# Predecimos\n",
    "\n",
    "predictions = model.test(testset)"
   ]
  },
  {
   "cell_type": "code",
   "execution_count": 157,
   "metadata": {},
   "outputs": [
    {
     "data": {
      "text/plain": [
       "Prediction(uid=713, iid='hs1513', r_ui=4.5, est=3.684855765748993, details={'was_impossible': False})"
      ]
     },
     "execution_count": 157,
     "metadata": {},
     "output_type": "execute_result"
    }
   ],
   "source": [
    "predictions[1]"
   ]
  },
  {
   "cell_type": "code",
   "execution_count": 158,
   "metadata": {},
   "outputs": [
    {
     "data": {
      "text/plain": [
       "Prediction(uid=9, iid='ns5709', r_ui=None, est=3.8650248144942636, details={'was_impossible': False})"
      ]
     },
     "execution_count": 158,
     "metadata": {},
     "output_type": "execute_result"
    }
   ],
   "source": [
    "# Hacemos una predicción con userId y movieId al azar\n",
    "\n",
    "model.predict(9, 'ns5709')"
   ]
  },
  {
   "attachments": {},
   "cell_type": "markdown",
   "metadata": {},
   "source": [
    "### Predicción completa para un usuario aleatorio"
   ]
  },
  {
   "cell_type": "code",
   "execution_count": 159,
   "metadata": {},
   "outputs": [
    {
     "data": {
      "text/html": [
       "<div>\n",
       "<style scoped>\n",
       "    .dataframe tbody tr th:only-of-type {\n",
       "        vertical-align: middle;\n",
       "    }\n",
       "\n",
       "    .dataframe tbody tr th {\n",
       "        vertical-align: top;\n",
       "    }\n",
       "\n",
       "    .dataframe thead th {\n",
       "        text-align: right;\n",
       "    }\n",
       "</style>\n",
       "<table border=\"1\" class=\"dataframe\">\n",
       "  <thead>\n",
       "    <tr style=\"text-align: right;\">\n",
       "      <th></th>\n",
       "      <th>userId</th>\n",
       "      <th>score</th>\n",
       "      <th>timestamp</th>\n",
       "      <th>movieId</th>\n",
       "      <th>title</th>\n",
       "    </tr>\n",
       "  </thead>\n",
       "  <tbody>\n",
       "    <tr>\n",
       "      <th>0</th>\n",
       "      <td>44200</td>\n",
       "      <td>5.0</td>\n",
       "      <td>2013-11-10</td>\n",
       "      <td>as6154</td>\n",
       "      <td>paranormal</td>\n",
       "    </tr>\n",
       "    <tr>\n",
       "      <th>1</th>\n",
       "      <td>44200</td>\n",
       "      <td>5.0</td>\n",
       "      <td>2013-11-04</td>\n",
       "      <td>ns1757</td>\n",
       "      <td>lego jurassic world: legend of isla nublar</td>\n",
       "    </tr>\n",
       "    <tr>\n",
       "      <th>2</th>\n",
       "      <td>44200</td>\n",
       "      <td>5.0</td>\n",
       "      <td>2013-11-04</td>\n",
       "      <td>ds360</td>\n",
       "      <td>planes</td>\n",
       "    </tr>\n",
       "    <tr>\n",
       "      <th>3</th>\n",
       "      <td>44200</td>\n",
       "      <td>4.0</td>\n",
       "      <td>2015-11-07</td>\n",
       "      <td>as149</td>\n",
       "      <td>water (short)</td>\n",
       "    </tr>\n",
       "    <tr>\n",
       "      <th>4</th>\n",
       "      <td>44200</td>\n",
       "      <td>4.0</td>\n",
       "      <td>2014-10-18</td>\n",
       "      <td>as9420</td>\n",
       "      <td>the sacrament</td>\n",
       "    </tr>\n",
       "    <tr>\n",
       "      <th>...</th>\n",
       "      <td>...</td>\n",
       "      <td>...</td>\n",
       "      <td>...</td>\n",
       "      <td>...</td>\n",
       "      <td>...</td>\n",
       "    </tr>\n",
       "    <tr>\n",
       "      <th>192</th>\n",
       "      <td>44200</td>\n",
       "      <td>4.5</td>\n",
       "      <td>2016-03-09</td>\n",
       "      <td>ns3960</td>\n",
       "      <td>mercy black</td>\n",
       "    </tr>\n",
       "    <tr>\n",
       "      <th>193</th>\n",
       "      <td>44200</td>\n",
       "      <td>4.0</td>\n",
       "      <td>2016-03-09</td>\n",
       "      <td>as9069</td>\n",
       "      <td>the joyriders</td>\n",
       "    </tr>\n",
       "    <tr>\n",
       "      <th>194</th>\n",
       "      <td>44200</td>\n",
       "      <td>4.0</td>\n",
       "      <td>2016-03-09</td>\n",
       "      <td>ns2761</td>\n",
       "      <td>kannum kannum kollaiyadithaal</td>\n",
       "    </tr>\n",
       "    <tr>\n",
       "      <th>195</th>\n",
       "      <td>44200</td>\n",
       "      <td>4.5</td>\n",
       "      <td>2016-03-09</td>\n",
       "      <td>hs697</td>\n",
       "      <td>vanguard</td>\n",
       "    </tr>\n",
       "    <tr>\n",
       "      <th>196</th>\n",
       "      <td>44200</td>\n",
       "      <td>4.5</td>\n",
       "      <td>2016-11-08</td>\n",
       "      <td>hs2993</td>\n",
       "      <td>mcleod's daughters</td>\n",
       "    </tr>\n",
       "  </tbody>\n",
       "</table>\n",
       "<p>197 rows × 5 columns</p>\n",
       "</div>"
      ],
      "text/plain": [
       "     userId  score   timestamp movieId  \\\n",
       "0     44200    5.0  2013-11-10  as6154   \n",
       "1     44200    5.0  2013-11-04  ns1757   \n",
       "2     44200    5.0  2013-11-04   ds360   \n",
       "3     44200    4.0  2015-11-07   as149   \n",
       "4     44200    4.0  2014-10-18  as9420   \n",
       "..      ...    ...         ...     ...   \n",
       "192   44200    4.5  2016-03-09  ns3960   \n",
       "193   44200    4.0  2016-03-09  as9069   \n",
       "194   44200    4.0  2016-03-09  ns2761   \n",
       "195   44200    4.5  2016-03-09   hs697   \n",
       "196   44200    4.5  2016-11-08  hs2993   \n",
       "\n",
       "                                          title  \n",
       "0                                    paranormal  \n",
       "1    lego jurassic world: legend of isla nublar  \n",
       "2                                        planes  \n",
       "3                                 water (short)  \n",
       "4                                 the sacrament  \n",
       "..                                          ...  \n",
       "192                                 mercy black  \n",
       "193                               the joyriders  \n",
       "194               kannum kannum kollaiyadithaal  \n",
       "195                                    vanguard  \n",
       "196                          mcleod's daughters  \n",
       "\n",
       "[197 rows x 5 columns]"
      ]
     },
     "execution_count": 159,
     "metadata": {},
     "output_type": "execute_result"
    }
   ],
   "source": [
    "# Tomaremos un usuario al azar para hacerle una recomendación\n",
    "\n",
    "usuario = 44200\n",
    "score = 4  # Tomamos películas a las que haya calificado con 4 o 5 estrellas\n",
    "df_user = df[(df.userId == usuario) & (df.score >= score)]\n",
    "\n",
    "df_user = df_user.reset_index(drop=True)\n",
    "\n",
    "df_titles.rename(columns={'id': 'movieId'}, inplace=True)\n",
    "\n",
    "df_user = pd.merge(df_user, df_titles[['movieId', 'title']], left_on='movieId', right_on='movieId', how='left')\n",
    "\n",
    "df_user"
   ]
  },
  {
   "cell_type": "code",
   "execution_count": 160,
   "metadata": {},
   "outputs": [
    {
     "name": "stdout",
     "output_type": "stream",
     "text": [
      "(22998, 2)\n"
     ]
    },
    {
     "data": {
      "text/html": [
       "<div>\n",
       "<style scoped>\n",
       "    .dataframe tbody tr th:only-of-type {\n",
       "        vertical-align: middle;\n",
       "    }\n",
       "\n",
       "    .dataframe tbody tr th {\n",
       "        vertical-align: top;\n",
       "    }\n",
       "\n",
       "    .dataframe thead th {\n",
       "        text-align: right;\n",
       "    }\n",
       "</style>\n",
       "<table border=\"1\" class=\"dataframe\">\n",
       "  <thead>\n",
       "    <tr style=\"text-align: right;\">\n",
       "      <th></th>\n",
       "      <th>movieId</th>\n",
       "      <th>title</th>\n",
       "    </tr>\n",
       "  </thead>\n",
       "  <tbody>\n",
       "    <tr>\n",
       "      <th>0</th>\n",
       "      <td>as1</td>\n",
       "      <td>the grand seduction</td>\n",
       "    </tr>\n",
       "    <tr>\n",
       "      <th>1</th>\n",
       "      <td>as2</td>\n",
       "      <td>take care good night</td>\n",
       "    </tr>\n",
       "    <tr>\n",
       "      <th>2</th>\n",
       "      <td>as3</td>\n",
       "      <td>secrets of deception</td>\n",
       "    </tr>\n",
       "    <tr>\n",
       "      <th>3</th>\n",
       "      <td>as4</td>\n",
       "      <td>pink: staying true</td>\n",
       "    </tr>\n",
       "    <tr>\n",
       "      <th>4</th>\n",
       "      <td>as5</td>\n",
       "      <td>monster maker</td>\n",
       "    </tr>\n",
       "  </tbody>\n",
       "</table>\n",
       "</div>"
      ],
      "text/plain": [
       "  movieId                 title\n",
       "0     as1   the grand seduction\n",
       "1     as2  take care good night\n",
       "2     as3  secrets of deception\n",
       "3     as4    pink: staying true\n",
       "4     as5         monster maker"
      ]
     },
     "execution_count": 160,
     "metadata": {},
     "output_type": "execute_result"
    }
   ],
   "source": [
    "recomendaciones_usuario = df_titles.iloc[:23000].copy()\n",
    "print(recomendaciones_usuario.shape)\n",
    "recomendaciones_usuario.head()"
   ]
  },
  {
   "cell_type": "code",
   "execution_count": 161,
   "metadata": {},
   "outputs": [
    {
     "name": "stdout",
     "output_type": "stream",
     "text": [
      "(337, 4)\n"
     ]
    },
    {
     "data": {
      "text/html": [
       "<div>\n",
       "<style scoped>\n",
       "    .dataframe tbody tr th:only-of-type {\n",
       "        vertical-align: middle;\n",
       "    }\n",
       "\n",
       "    .dataframe tbody tr th {\n",
       "        vertical-align: top;\n",
       "    }\n",
       "\n",
       "    .dataframe thead th {\n",
       "        text-align: right;\n",
       "    }\n",
       "</style>\n",
       "<table border=\"1\" class=\"dataframe\">\n",
       "  <thead>\n",
       "    <tr style=\"text-align: right;\">\n",
       "      <th></th>\n",
       "      <th>userId</th>\n",
       "      <th>score</th>\n",
       "      <th>timestamp</th>\n",
       "      <th>movieId</th>\n",
       "    </tr>\n",
       "  </thead>\n",
       "  <tbody>\n",
       "    <tr>\n",
       "      <th>4254853</th>\n",
       "      <td>44200</td>\n",
       "      <td>3.5</td>\n",
       "      <td>2013-11-12</td>\n",
       "      <td>as4033</td>\n",
       "    </tr>\n",
       "    <tr>\n",
       "      <th>4254854</th>\n",
       "      <td>44200</td>\n",
       "      <td>5.0</td>\n",
       "      <td>2013-11-10</td>\n",
       "      <td>as6154</td>\n",
       "    </tr>\n",
       "    <tr>\n",
       "      <th>4254855</th>\n",
       "      <td>44200</td>\n",
       "      <td>5.0</td>\n",
       "      <td>2013-11-04</td>\n",
       "      <td>ns1757</td>\n",
       "    </tr>\n",
       "    <tr>\n",
       "      <th>4254856</th>\n",
       "      <td>44200</td>\n",
       "      <td>5.0</td>\n",
       "      <td>2013-11-04</td>\n",
       "      <td>ds360</td>\n",
       "    </tr>\n",
       "    <tr>\n",
       "      <th>4254857</th>\n",
       "      <td>44200</td>\n",
       "      <td>3.0</td>\n",
       "      <td>2013-11-23</td>\n",
       "      <td>hs2132</td>\n",
       "    </tr>\n",
       "  </tbody>\n",
       "</table>\n",
       "</div>"
      ],
      "text/plain": [
       "         userId  score   timestamp movieId\n",
       "4254853   44200    3.5  2013-11-12  as4033\n",
       "4254854   44200    5.0  2013-11-10  as6154\n",
       "4254855   44200    5.0  2013-11-04  ns1757\n",
       "4254856   44200    5.0  2013-11-04   ds360\n",
       "4254857   44200    3.0  2013-11-23  hs2132"
      ]
     },
     "execution_count": 161,
     "metadata": {},
     "output_type": "execute_result"
    }
   ],
   "source": [
    "# Debemos extraer las películas que ya ha visto\n",
    "\n",
    "usuario_vistas = df[df['userId'] == usuario]\n",
    "print(usuario_vistas.shape)\n",
    "usuario_vistas.head()"
   ]
  },
  {
   "cell_type": "code",
   "execution_count": 162,
   "metadata": {},
   "outputs": [
    {
     "data": {
      "text/plain": [
       "(22663, 2)"
      ]
     },
     "execution_count": 162,
     "metadata": {},
     "output_type": "execute_result"
    }
   ],
   "source": [
    "# Eliminamos las peliculas que el usuario ya vió\n",
    "\n",
    "recomendaciones_usuario = recomendaciones_usuario[~recomendaciones_usuario['movieId'].isin(usuario_vistas['movieId'])]\n",
    "\n",
    "recomendaciones_usuario.shape"
   ]
  },
  {
   "cell_type": "code",
   "execution_count": 163,
   "metadata": {},
   "outputs": [],
   "source": [
    "# Recomendamos\n",
    "\n",
    "recomendaciones_usuario['Estimate_Score'] = recomendaciones_usuario['movieId'].apply(lambda x: model.predict(usuario, x).est)"
   ]
  },
  {
   "cell_type": "code",
   "execution_count": 164,
   "metadata": {},
   "outputs": [
    {
     "name": "stdout",
     "output_type": "stream",
     "text": [
      "      movieId                                      title  Estimate_Score\n",
      "11296   hs179                               the simpsons        4.073426\n",
      "9895    ds228  fantastic four: rise of the silver surfer        4.055814\n",
      "7288   as7289                          day of the reaper        3.993728\n",
      "118     as119             where is chicky? - chapter two        3.993479\n",
      "17725  ns3535                                    the spy        3.984310\n",
      "19567  ns5377                              chasing coral        3.983034\n",
      "546     as547                 the man in the high castle        3.977360\n",
      "14549   ns359                                    the net        3.972543\n",
      "8231   as8232                          the wheel of time        3.964648\n",
      "2904   as2905                                   carriers        3.951285\n"
     ]
    }
   ],
   "source": [
    "recomendaciones_usuario = recomendaciones_usuario.sort_values('Estimate_Score', ascending=False)\n",
    "print(recomendaciones_usuario.head(10))"
   ]
  },
  {
   "attachments": {},
   "cell_type": "markdown",
   "metadata": {},
   "source": [
    "### Predicción ingresando un id de usuario y uno de pelicula"
   ]
  },
  {
   "cell_type": "code",
   "execution_count": 165,
   "metadata": {},
   "outputs": [],
   "source": [
    "def get_movie_recommendation(userId, movieId):\n",
    "    # Obtenemos la predicción de la calificación que el usuario le daría a la película\n",
    "    prediction = model.predict(str(userId), str(movieId))\n",
    "\n",
    "    # Si la predicción es mayor o igual a 3.5, se recomienda la película\n",
    "    if prediction.est >= 3.5:\n",
    "        return \"Recomendado\", prediction.est\n",
    "    else:\n",
    "        return \"No recomendado\", prediction.est"
   ]
  },
  {
   "cell_type": "code",
   "execution_count": 166,
   "metadata": {},
   "outputs": [
    {
     "name": "stdout",
     "output_type": "stream",
     "text": [
      "La película es: ('No recomendado', 3.4409895570211986)\n"
     ]
    }
   ],
   "source": [
    "# ID del usuario\n",
    "user_id = 58\n",
    "\n",
    "# ID de la película\n",
    "movie_id = 'as12'\n",
    "\n",
    "# Obtener la recomendación para el usuario y la película\n",
    "recommendation = get_movie_recommendation(user_id, movie_id)\n",
    "\n",
    "# Imprimir la recomendación\n",
    "print(\"La película es:\", recommendation)"
   ]
  },
  {
   "attachments": {},
   "cell_type": "markdown",
   "metadata": {},
   "source": [
    "## Evaluación del modelo"
   ]
  },
  {
   "cell_type": "code",
   "execution_count": 167,
   "metadata": {},
   "outputs": [
    {
     "name": "stdout",
     "output_type": "stream",
     "text": [
      "RMSE: 0.9572\n"
     ]
    },
    {
     "data": {
      "text/plain": [
       "0.9571505841060434"
      ]
     },
     "execution_count": 167,
     "metadata": {},
     "output_type": "execute_result"
    }
   ],
   "source": [
    "# Evaluamos el accuracy del modelo\n",
    "\n",
    "from surprise import accuracy\n",
    "\n",
    "accuracy.rmse(predictions)"
   ]
  },
  {
   "attachments": {},
   "cell_type": "markdown",
   "metadata": {},
   "source": [
    "## Optimización de los hiperparametros"
   ]
  },
  {
   "cell_type": "code",
   "execution_count": 168,
   "metadata": {},
   "outputs": [
    {
     "name": "stdout",
     "output_type": "stream",
     "text": [
      "1\n",
      "Evaluating RMSE of algorithm SVD on 3 split(s).\n",
      "\n",
      "                  Fold 1  Fold 2  Fold 3  Mean    Std     \n",
      "RMSE (testset)    0.9511  0.9490  0.9469  0.9490  0.0017  \n",
      "Fit time          0.49    0.51    0.50    0.50    0.01    \n",
      "Test time         0.18    0.18    0.19    0.18    0.00    \n",
      "2\n",
      "Evaluating RMSE of algorithm SVD on 3 split(s).\n",
      "\n",
      "                  Fold 1  Fold 2  Fold 3  Mean    Std     \n",
      "RMSE (testset)    0.9526  0.9536  0.9436  0.9500  0.0045  \n",
      "Fit time          0.55    0.52    0.57    0.55    0.02    \n",
      "Test time         0.21    0.20    0.27    0.23    0.03    \n",
      "4\n",
      "Evaluating RMSE of algorithm SVD on 3 split(s).\n",
      "\n",
      "                  Fold 1  Fold 2  Fold 3  Mean    Std     \n",
      "RMSE (testset)    0.9569  0.9489  0.9448  0.9502  0.0050  \n",
      "Fit time          0.56    0.52    0.54    0.54    0.01    \n",
      "Test time         3.43    0.19    0.18    1.27    1.53    \n",
      "8\n",
      "Evaluating RMSE of algorithm SVD on 3 split(s).\n",
      "\n",
      "                  Fold 1  Fold 2  Fold 3  Mean    Std     \n",
      "RMSE (testset)    0.9488  0.9485  0.9564  0.9512  0.0037  \n",
      "Fit time          0.56    0.56    0.59    0.57    0.01    \n",
      "Test time         0.19    3.50    0.23    1.30    1.55    \n",
      "16\n",
      "Evaluating RMSE of algorithm SVD on 3 split(s).\n",
      "\n",
      "                  Fold 1  Fold 2  Fold 3  Mean    Std     \n",
      "RMSE (testset)    0.9471  0.9515  0.9575  0.9520  0.0043  \n",
      "Fit time          0.67    0.71    0.73    0.70    0.03    \n",
      "Test time         0.22    0.26    3.59    1.36    1.58    \n",
      "32\n",
      "Evaluating RMSE of algorithm SVD on 3 split(s).\n",
      "\n",
      "                  Fold 1  Fold 2  Fold 3  Mean    Std     \n",
      "RMSE (testset)    0.9598  0.9508  0.9494  0.9533  0.0046  \n",
      "Fit time          0.70    0.70    0.71    0.71    0.00    \n",
      "Test time         0.19    0.19    0.19    0.19    0.00    \n",
      "64\n",
      "Evaluating RMSE of algorithm SVD on 3 split(s).\n",
      "\n",
      "                  Fold 1  Fold 2  Fold 3  Mean    Std     \n",
      "RMSE (testset)    0.9593  0.9576  0.9516  0.9562  0.0033  \n",
      "Fit time          0.80    0.81    0.95    0.85    0.07    \n",
      "Test time         0.17    0.17    0.21    0.18    0.02    \n",
      "128\n",
      "Evaluating RMSE of algorithm SVD on 3 split(s).\n",
      "\n",
      "                  Fold 1  Fold 2  Fold 3  Mean    Std     \n",
      "RMSE (testset)    0.9604  0.9640  0.9618  0.9621  0.0015  \n",
      "Fit time          1.28    1.22    1.23    1.24    0.02    \n",
      "Test time         0.20    0.20    0.20    0.20    0.00    \n"
     ]
    }
   ],
   "source": [
    "from surprise.model_selection import cross_validate\n",
    "import numpy as np\n",
    "\n",
    "rmse_test_means = []\n",
    "factores = [1,2,4,8,16,32,64,128]\n",
    "\n",
    "for factor in factores:\n",
    "    print(factor)\n",
    "    model = SVD(n_factors=factor)\n",
    "    cv = cross_validate(model, data, measures=['RMSE'], cv = 3, verbose=True)\n",
    "    rmse_test_means.append(np.mean(cv['test_rmse']))"
   ]
  },
  {
   "cell_type": "code",
   "execution_count": 169,
   "metadata": {},
   "outputs": [
    {
     "data": {
      "image/png": "[encoded data removed]",
      "text/plain": [
       "<Figure size 640x480 with 1 Axes>"
      ]
     },
     "metadata": {},
     "output_type": "display_data"
    }
   ],
   "source": [
    "# Ploteamos desempeño según cantidad de factores de SVD\n",
    "\n",
    "plt.scatter(factores, rmse_test_means)\n",
    "plt.xlabel('Numero de factores')\n",
    "plt.ylabel('Error RMSE')\n",
    "plt.show()"
   ]
  }
 ],
 "metadata": {
  "kernelspec": {
   "display_name": "Python 3",
   "language": "python",
   "name": "python3"
  },
  "language_info": {
   "codemirror_mode": {
    "name": "ipython",
    "version": 3
   },
   "file_extension": ".py",
   "mimetype": "text/x-python",
   "name": "python",
   "nbconvert_exporter": "python",
   "pygments_lexer": "ipython3",
   "version": "3.10.9"
  },
  "orig_nbformat": 4,
  "vscode": {
   "interpreter": {
    "hash": "3196968d684371006099b3d55edeef8ed90365227a30deaef86e5d4aa8519be0"
   }
  }
 },
 "nbformat": 4,
 "nbformat_minor": 2
}
